{
  "nbformat": 4,
  "nbformat_minor": 0,
  "metadata": {
    "colab": {
      "name": "BT_ANN.ipynb",
      "provenance": [],
      "collapsed_sections": [],
      "authorship_tag": "ABX9TyNl8c7Aqy4uRFFvKnsD9tbn",
      "include_colab_link": true
    },
    "kernelspec": {
      "name": "python3",
      "display_name": "Python 3"
    },
    "language_info": {
      "name": "python"
    }
  },
  "cells": [
    {
      "cell_type": "markdown",
      "metadata": {
        "id": "view-in-github",
        "colab_type": "text"
      },
      "source": [
        "<a href=\"https://colab.research.google.com/github/phuocthok18/BT_ANN/blob/main/BT_ANN.ipynb\" target=\"_parent\"><img src=\"https://colab.research.google.com/assets/colab-badge.svg\" alt=\"Open In Colab\"/></a>"
      ]
    },
    {
      "cell_type": "code",
      "execution_count": null,
      "metadata": {
        "id": "-XBZsLEv91Gl",
        "colab": {
          "base_uri": "https://localhost:8080/"
        },
        "outputId": "1bb494a8-4ab5-4276-e181-66ccdf7ad147"
      },
      "outputs": [
        {
          "output_type": "stream",
          "name": "stdout",
          "text": [
            "save file\n"
          ]
        }
      ],
      "source": [
        "#-------BAI1: BAI TOAN DONG HOC THUAN CANH TAY ROBOT 2 BAC TU DO\n",
        "import numpy as np\n",
        "import pandas as pd\n",
        "import openpyxl\n",
        "from openpyxl import Workbook\n",
        "import seaborn as sns\n",
        "import matplotlib.pyplot as plt\n",
        "\n",
        "wb = openpyxl.Workbook()\n",
        "sheet = wb.active\n",
        "sheet['A1'] = 'Px'\n",
        "sheet['B1'] = 'Py'\n",
        "sheet['C1'] = 'T1' # T1 la goc theta1\n",
        "sheet['D1'] = 'T2' # T2 la goc theta2\n",
        "\n",
        "L1 = 50\n",
        "L2 = 40\n",
        "r = 1;\n",
        "pi = 3.14;\n",
        "\n",
        "for T1 in range(0, 360, 1):\n",
        "  for T2 in range(0, 270, 1):\n",
        "      px = L1*np.cos(T1*pi/180) + L2*np.cos((T1+T2)*pi/180)\n",
        "      py = L1*np.sin(T1*pi/180) + L2*np.sin((T1+T2)*pi/180)\n",
        "      r = r+1;\n",
        "      px_txt = sheet.cell(row= r, column= 1)\n",
        "      px_txt.value= f'{px}'\n",
        "\n",
        "      py_txt = sheet.cell(row= r, column= 2)\n",
        "      py_txt.value= f'{py}'\n",
        "\n",
        "      T1_txt = sheet.cell(row= r, column= 3)\n",
        "      T1_txt.value= f'{T1}'\n",
        "\n",
        "      T2_txt = sheet.cell(row= r, column= 4)\n",
        "      T2_txt.value= f'{T2}'\n",
        "wb.save('Baitap01.xlsx')\n",
        "print('save file')"
      ]
    },
    {
      "cell_type": "code",
      "source": [
        ""
      ],
      "metadata": {
        "id": "oODYJUn4z-lw"
      },
      "execution_count": null,
      "outputs": []
    },
    {
      "cell_type": "code",
      "source": [
        "data = pd.read_excel('Baitap01.xlsx')\n",
        "corelations = data.corr()\n",
        "plt.subplots(figsize=(8,8))\n",
        "sns.heatmap(corelations, annot= True, square = True)\n",
        "print(corelations)"
      ],
      "metadata": {
        "colab": {
          "base_uri": "https://localhost:8080/",
          "height": 557
        },
        "id": "4EqrNP6jqfq5",
        "outputId": "b3b1192b-8d4c-44bc-9fa1-210010552c35"
      },
      "execution_count": null,
      "outputs": [
        {
          "output_type": "stream",
          "name": "stdout",
          "text": [
            "          Px        Py            T1            T2\n",
            "Px  1.000000 -0.000181  1.115555e-01  2.685273e-04\n",
            "Py -0.000181  1.000000 -5.696826e-01  2.578081e-04\n",
            "T1  0.111555 -0.569683  1.000000e+00  3.883620e-15\n",
            "T2  0.000269  0.000258  3.883620e-15  1.000000e+00\n"
          ]
        },
        {
          "output_type": "display_data",
          "data": {
            "text/plain": [
              "<Figure size 576x576 with 2 Axes>"
            ],
            "image/png": "[encoded data removed]"
          },
          "metadata": {
            "needs_background": "light"
          }
        }
      ]
    },
    {
      "cell_type": "code",
      "source": [
        "from sklearn.preprocessing import StandardScaler\n",
        "\n",
        "x = data.drop(['T1', 'T2'], axis= 1)\n",
        "y = data.drop(['Px', 'Py'], axis= 1)\n",
        "col_names = list(x.columns)\n",
        "s_scaler = StandardScaler()\n",
        "X_df = s_scaler.fit_transform(x)\n",
        "X_df = pd.DataFrame(X_df, columns= col_names)\n",
        "X_df.describe().T"
      ],
      "metadata": {
        "id": "5Wd87N6Ys05_",
        "colab": {
          "base_uri": "https://localhost:8080/",
          "height": 112
        },
        "outputId": "97642866-8c17-4e9d-eeda-f29d1e0d00fb"
      },
      "execution_count": null,
      "outputs": [
        {
          "output_type": "execute_result",
          "data": {
            "text/plain": [
              "      count          mean       std       min       25%       50%       75%  \\\n",
              "Px  97200.0  1.064297e-15  1.000005 -2.229584 -0.665999 -0.000274  0.665912   \n",
              "Py  97200.0  5.281098e-16  1.000005 -2.229415 -0.665685 -0.000081  0.665686   \n",
              "\n",
              "         max  \n",
              "Px  2.230634  \n",
              "Py  2.229625  "
            ],
            "text/html": [
              "\n",
              "  <div id=\"df-7c97b920-0c23-43a2-9039-6a3f52f6ecd5\">\n",
              "    <div class=\"colab-df-container\">\n",
              "      <div>\n",
              "<style scoped>\n",
              "    .dataframe tbody tr th:only-of-type {\n",
              "        vertical-align: middle;\n",
              "    }\n",
              "\n",
              "    .dataframe tbody tr th {\n",
              "        vertical-align: top;\n",
              "    }\n",
              "\n",
              "    .dataframe thead th {\n",
              "        text-align: right;\n",
              "    }\n",
              "</style>\n",
              "<table border=\"1\" class=\"dataframe\">\n",
              "  <thead>\n",
              "    <tr style=\"text-align: right;\">\n",
              "      <th></th>\n",
              "      <th>count</th>\n",
              "      <th>mean</th>\n",
              "      <th>std</th>\n",
              "      <th>min</th>\n",
              "      <th>25%</th>\n",
              "      <th>50%</th>\n",
              "      <th>75%</th>\n",
              "      <th>max</th>\n",
              "    </tr>\n",
              "  </thead>\n",
              "  <tbody>\n",
              "    <tr>\n",
              "      <th>Px</th>\n",
              "      <td>97200.0</td>\n",
              "      <td>1.064297e-15</td>\n",
              "      <td>1.000005</td>\n",
              "      <td>-2.229584</td>\n",
              "      <td>-0.665999</td>\n",
              "      <td>-0.000274</td>\n",
              "      <td>0.665912</td>\n",
              "      <td>2.230634</td>\n",
              "    </tr>\n",
              "    <tr>\n",
              "      <th>Py</th>\n",
              "      <td>97200.0</td>\n",
              "      <td>5.281098e-16</td>\n",
              "      <td>1.000005</td>\n",
              "      <td>-2.229415</td>\n",
              "      <td>-0.665685</td>\n",
              "      <td>-0.000081</td>\n",
              "      <td>0.665686</td>\n",
              "      <td>2.229625</td>\n",
              "    </tr>\n",
              "  </tbody>\n",
              "</table>\n",
              "</div>\n",
              "      <button class=\"colab-df-convert\" onclick=\"convertToInteractive('df-7c97b920-0c23-43a2-9039-6a3f52f6ecd5')\"\n",
              "              title=\"Convert this dataframe to an interactive table.\"\n",
              "              style=\"display:none;\">\n",
              "        \n",
              "  <svg xmlns=\"http://www.w3.org/2000/svg\" height=\"24px\"viewBox=\"0 0 24 24\"\n",
              "       width=\"24px\">\n",
              "    <path d=\"M0 0h24v24H0V0z\" fill=\"none\"/>\n",
              "    <path d=\"M18.56 5.44l.94 2.06.94-2.06 2.06-.94-2.06-.94-.94-2.06-.94 2.06-2.06.94zm-11 1L8.5 8.5l.94-2.06 2.06-.94-2.06-.94L8.5 2.5l-.94 2.06-2.06.94zm10 10l.94 2.06.94-2.06 2.06-.94-2.06-.94-.94-2.06-.94 2.06-2.06.94z\"/><path d=\"M17.41 7.96l-1.37-1.37c-.4-.4-.92-.59-1.43-.59-.52 0-1.04.2-1.43.59L10.3 9.45l-7.72 7.72c-.78.78-.78 2.05 0 2.83L4 21.41c.39.39.9.59 1.41.59.51 0 1.02-.2 1.41-.59l7.78-7.78 2.81-2.81c.8-.78.8-2.07 0-2.86zM5.41 20L4 18.59l7.72-7.72 1.47 1.35L5.41 20z\"/>\n",
              "  </svg>\n",
              "      </button>\n",
              "      \n",
              "  <style>\n",
              "    .colab-df-container {\n",
              "      display:flex;\n",
              "      flex-wrap:wrap;\n",
              "      gap: 12px;\n",
              "    }\n",
              "\n",
              "    .colab-df-convert {\n",
              "      background-color: #E8F0FE;\n",
              "      border: none;\n",
              "      border-radius: 50%;\n",
              "      cursor: pointer;\n",
              "      display: none;\n",
              "      fill: #1967D2;\n",
              "      height: 32px;\n",
              "      padding: 0 0 0 0;\n",
              "      width: 32px;\n",
              "    }\n",
              "\n",
              "    .colab-df-convert:hover {\n",
              "      background-color: #E2EBFA;\n",
              "      box-shadow: 0px 1px 2px rgba(60, 64, 67, 0.3), 0px 1px 3px 1px rgba(60, 64, 67, 0.15);\n",
              "      fill: #174EA6;\n",
              "    }\n",
              "\n",
              "    [theme=dark] .colab-df-convert {\n",
              "      background-color: #3B4455;\n",
              "      fill: #D2E3FC;\n",
              "    }\n",
              "\n",
              "    [theme=dark] .colab-df-convert:hover {\n",
              "      background-color: #434B5C;\n",
              "      box-shadow: 0px 1px 3px 1px rgba(0, 0, 0, 0.15);\n",
              "      filter: drop-shadow(0px 1px 2px rgba(0, 0, 0, 0.3));\n",
              "      fill: #FFFFFF;\n",
              "    }\n",
              "  </style>\n",
              "\n",
              "      <script>\n",
              "        const buttonEl =\n",
              "          document.querySelector('#df-7c97b920-0c23-43a2-9039-6a3f52f6ecd5 button.colab-df-convert');\n",
              "        buttonEl.style.display =\n",
              "          google.colab.kernel.accessAllowed ? 'block' : 'none';\n",
              "\n",
              "        async function convertToInteractive(key) {\n",
              "          const element = document.querySelector('#df-7c97b920-0c23-43a2-9039-6a3f52f6ecd5');\n",
              "          const dataTable =\n",
              "            await google.colab.kernel.invokeFunction('convertToInteractive',\n",
              "                                                     [key], {});\n",
              "          if (!dataTable) return;\n",
              "\n",
              "          const docLinkHtml = 'Like what you see? Visit the ' +\n",
              "            '<a target=\"_blank\" href=https://colab.research.google.com/notebooks/data_table.ipynb>data table notebook</a>'\n",
              "            + ' to learn more about interactive tables.';\n",
              "          element.innerHTML = '';\n",
              "          dataTable['output_type'] = 'display_data';\n",
              "          await google.colab.output.renderOutput(dataTable, element);\n",
              "          const docLink = document.createElement('div');\n",
              "          docLink.innerHTML = docLinkHtml;\n",
              "          element.appendChild(docLink);\n",
              "        }\n",
              "      </script>\n",
              "    </div>\n",
              "  </div>\n",
              "  "
            ]
          },
          "metadata": {},
          "execution_count": 9
        }
      ]
    },
    {
      "cell_type": "code",
      "source": [
        "import keras\n",
        "from tensorflow.keras.optimizers import RMSprop, SGD\n",
        "from keras.layers import Dense\n",
        "from sklearn.model_selection import train_test_split\n",
        "\n",
        "X_train, X_test, y_train, y_test = train_test_split(X_df, y, test_size = 0.25, random_state = 7)\n",
        "print(X_train.shape, X_test.shape)"
      ],
      "metadata": {
        "colab": {
          "base_uri": "https://localhost:8080/"
        },
        "id": "6Kaa6IZFxy6O",
        "outputId": "0c1a1200-50eb-46d7-92bf-2e26855f1847"
      },
      "execution_count": null,
      "outputs": [
        {
          "output_type": "stream",
          "name": "stdout",
          "text": [
            "(72900, 2) (24300, 2)\n"
          ]
        }
      ]
    },
    {
      "cell_type": "code",
      "source": [
        "from keras.layers import Dense\n",
        "from keras.models import Sequential\n",
        "# Tao mo hinh\n",
        "model = Sequential()\n",
        "model.add(Dense(512, activation= 'relu', input_shape = (2,)))\n",
        "model.add(Dense(256, activation= 'relu'))\n",
        "model.add(Dense(100, activation= 'relu'))\n",
        "model.add(Dense(2, activation= 'softmax'))\n",
        "model.summary()\n",
        "\n",
        "opt = SGD(lr=0.01, momentum=0.9)\n",
        "model.compile(loss='hinge', optimizer = RMSprop(), metrics = ['accuracy'])\n",
        "\n",
        "history = model.fit(X_train, y_train, batch_size = 128, epochs = 20, verbose = 1, validation_data = (X_test, y_test))\n",
        "score = model.evaluate(X_test, y_test, verbose = 0)\n",
        "print('Sai số kiểm tra: ', score[0])\n",
        "print('Độ chính xác kiểm tra:', score[1])\n",
        "model.save('Baitap01.h5')\n",
        "y_pred = model.predict(X_test)\n",
        "print(y_pred)"
      ],
      "metadata": {
        "colab": {
          "base_uri": "https://localhost:8080/"
        },
        "id": "p4sVjqJwysNa",
        "outputId": "fe306710-6aee-48fd-b641-59d2f7cc97ee"
      },
      "execution_count": null,
      "outputs": [
        {
          "output_type": "stream",
          "name": "stdout",
          "text": [
            "Model: \"sequential_1\"\n",
            "_________________________________________________________________\n",
            " Layer (type)                Output Shape              Param #   \n",
            "=================================================================\n",
            " dense_4 (Dense)             (None, 512)               1536      \n",
            "                                                                 \n",
            " dense_5 (Dense)             (None, 256)               131328    \n",
            "                                                                 \n",
            " dense_6 (Dense)             (None, 100)               25700     \n",
            "                                                                 \n",
            " dense_7 (Dense)             (None, 2)                 202       \n",
            "                                                                 \n",
            "=================================================================\n",
            "Total params: 158,766\n",
            "Trainable params: 158,766\n",
            "Non-trainable params: 0\n",
            "_________________________________________________________________\n",
            "Epoch 1/20\n"
          ]
        },
        {
          "output_type": "stream",
          "name": "stderr",
          "text": [
            "/usr/local/lib/python3.7/dist-packages/keras/optimizer_v2/gradient_descent.py:102: UserWarning: The `lr` argument is deprecated, use `learning_rate` instead.\n",
            "  super(SGD, self).__init__(name, **kwargs)\n"
          ]
        },
        {
          "output_type": "stream",
          "name": "stdout",
          "text": [
            "570/570 [==============================] - 6s 9ms/step - loss: 0.0043 - accuracy: 0.3861 - val_loss: 0.0038 - val_accuracy: 0.3719\n",
            "Epoch 2/20\n",
            "570/570 [==============================] - 5s 9ms/step - loss: 0.0038 - accuracy: 0.3747 - val_loss: 0.0067 - val_accuracy: 0.3787\n",
            "Epoch 3/20\n",
            "570/570 [==============================] - 5s 8ms/step - loss: 0.0038 - accuracy: 0.3663 - val_loss: 0.0040 - val_accuracy: 0.3635\n",
            "Epoch 4/20\n",
            "570/570 [==============================] - 5s 9ms/step - loss: 0.0037 - accuracy: 0.3625 - val_loss: 0.0035 - val_accuracy: 0.3460\n",
            "Epoch 5/20\n",
            "570/570 [==============================] - 5s 8ms/step - loss: 0.0037 - accuracy: 0.3606 - val_loss: 0.0036 - val_accuracy: 0.3642\n",
            "Epoch 6/20\n",
            "570/570 [==============================] - 6s 10ms/step - loss: 0.0037 - accuracy: 0.3553 - val_loss: 0.0038 - val_accuracy: 0.3226\n",
            "Epoch 7/20\n",
            "570/570 [==============================] - 5s 9ms/step - loss: 0.0037 - accuracy: 0.3379 - val_loss: 0.0035 - val_accuracy: 0.3475\n",
            "Epoch 8/20\n",
            "570/570 [==============================] - 5s 8ms/step - loss: 0.0036 - accuracy: 0.3537 - val_loss: 0.0036 - val_accuracy: 0.3130\n",
            "Epoch 9/20\n",
            "570/570 [==============================] - 5s 8ms/step - loss: 0.0037 - accuracy: 0.3527 - val_loss: 0.0036 - val_accuracy: 0.3316\n",
            "Epoch 10/20\n",
            "570/570 [==============================] - 5s 8ms/step - loss: 0.0036 - accuracy: 0.3573 - val_loss: 0.0035 - val_accuracy: 0.3384\n",
            "Epoch 11/20\n",
            "570/570 [==============================] - 5s 9ms/step - loss: 0.0036 - accuracy: 0.3616 - val_loss: 0.0034 - val_accuracy: 0.3594\n",
            "Epoch 12/20\n",
            "570/570 [==============================] - 6s 10ms/step - loss: 0.0036 - accuracy: 0.3617 - val_loss: 0.0035 - val_accuracy: 0.3618\n",
            "Epoch 13/20\n",
            "570/570 [==============================] - 5s 8ms/step - loss: 0.0036 - accuracy: 0.3627 - val_loss: 0.0038 - val_accuracy: 0.3421\n",
            "Epoch 14/20\n",
            "570/570 [==============================] - 5s 9ms/step - loss: 0.0036 - accuracy: 0.3612 - val_loss: 0.0036 - val_accuracy: 0.3504\n",
            "Epoch 15/20\n",
            "570/570 [==============================] - 5s 9ms/step - loss: 0.0036 - accuracy: 0.3586 - val_loss: 0.0035 - val_accuracy: 0.3540\n",
            "Epoch 16/20\n",
            "570/570 [==============================] - 5s 9ms/step - loss: 0.0036 - accuracy: 0.3518 - val_loss: 0.0035 - val_accuracy: 0.3372\n",
            "Epoch 17/20\n",
            "570/570 [==============================] - 5s 8ms/step - loss: 0.0036 - accuracy: 0.3524 - val_loss: 0.0035 - val_accuracy: 0.3617\n",
            "Epoch 18/20\n",
            "570/570 [==============================] - 4s 8ms/step - loss: 0.0036 - accuracy: 0.3554 - val_loss: 0.0035 - val_accuracy: 0.3500\n",
            "Epoch 19/20\n",
            "570/570 [==============================] - 5s 8ms/step - loss: 0.0036 - accuracy: 0.3634 - val_loss: 0.0034 - val_accuracy: 0.3516\n",
            "Epoch 20/20\n",
            "570/570 [==============================] - 5s 8ms/step - loss: 0.0036 - accuracy: 0.3649 - val_loss: 0.0035 - val_accuracy: 0.3459\n",
            "Sai số kiểm tra:  0.003542749909684062\n",
            "Độ chính xác kiểm tra: 0.345884770154953\n",
            "[[0.46353632 0.5364636 ]\n",
            " [0.3735869  0.62641317]\n",
            " [0.18365617 0.81634384]\n",
            " ...\n",
            " [0.5181564  0.4818436 ]\n",
            " [0.29368705 0.70631295]\n",
            " [0.3948438  0.60515624]]\n"
          ]
        }
      ]
    },
    {
      "cell_type": "code",
      "source": [
        "pd.DataFrame(history.history).plot(figsize= (8,5))\n",
        "plt.grid(True)\n",
        "plt.gca().set_ylim(0,1)\n",
        "plt.show()\n",
        "\n",
        "plt.plot(history.history['accuracy'])\n",
        "plt.plot(history.history['val_accuracy'])\n",
        "plt.title('model accuracy')\n",
        "plt.ylabel('accuracy')\n",
        "plt.xlabel('epoch')\n",
        "plt.legend(['train','validation'], loc = 'upper left')\n",
        "plt.show()"
      ],
      "metadata": {
        "colab": {
          "base_uri": "https://localhost:8080/",
          "height": 602
        },
        "id": "qJtJacCLGY7S",
        "outputId": "2037761d-1237-4c0a-eaa6-9419118a59b9"
      },
      "execution_count": null,
      "outputs": [
        {
          "output_type": "display_data",
          "data": {
            "text/plain": [
              "<Figure size 576x360 with 1 Axes>"
            ],
            "image/png": "[encoded data removed]"
          },
          "metadata": {
            "needs_background": "light"
          }
        },
        {
          "output_type": "display_data",
          "data": {
            "text/plain": [
              "<Figure size 432x288 with 1 Axes>"
            ],
            "image/png": "[encoded data removed]"
          },
          "metadata": {
            "needs_background": "light"
          }
        }
      ]
    },
    {
      "cell_type": "code",
      "source": [
        "#----------BAI02: BAI TOAN DONG HOC THUAN CANH TAY ROBOT 3 BAC TU DO\n",
        "import numpy as np\n",
        "import pandas as pd\n",
        "import openpyxl\n",
        "from openpyxl import Workbook\n",
        "import seaborn as sns\n",
        "import matplotlib.pyplot as plt\n",
        "\n",
        "wb = openpyxl.Workbook()\n",
        "sheet = wb.active\n",
        "sheet['A1'] = 'Px'\n",
        "sheet['B1'] = 'Py'\n",
        "sheet['C1'] = 'T1' # T1 la goc theta1\n",
        "sheet['D1'] = 'T2' # T2 la goc theta2\n",
        "sheet['E1'] = 'T3' # T3 la goc thata3\n",
        "sheet['F1'] = 'Si' # Si = T1 + T2 + T3\n",
        "\n",
        "L1 = 50\n",
        "L2 = 40\n",
        "L3 = 20\n",
        "r = 1;\n",
        "pi = 3.14;\n",
        "\n",
        "for T1 in range(0, 360, 5):\n",
        "  for T2 in range(0, 270, 5):\n",
        "    for T3 in range(0, 270, 5):\n",
        "      px = L1*np.cos(T1*pi/180) + L2*np.cos((T1+T2)*pi/180) + L3*np.cos((T1+T2+T3)*pi/180)\n",
        "      py = L1*np.sin(T1*pi/180) + L2*np.sin((T1+T2)*pi/180) + L3*np.sin((T1+T2+T3)*pi/180)\n",
        "      Si = T1 + T2 + T3\n",
        "      r = r+1;\n",
        "      px_txt = sheet.cell(row= r, column= 1)\n",
        "      px_txt.value= f'{px}'\n",
        "\n",
        "      py_txt = sheet.cell(row= r, column= 2)\n",
        "      py_txt.value= f'{py}'\n",
        "\n",
        "      T1_txt = sheet.cell(row= r, column= 3)\n",
        "      T1_txt.value= f'{T1}'\n",
        "\n",
        "      T2_txt = sheet.cell(row= r, column= 4)\n",
        "      T2_txt.value= f'{T2}'\n",
        "\n",
        "      T3_txt = sheet.cell(row= r, column= 5)\n",
        "      T3_txt.value= f'{T3}'\n",
        "\n",
        "      Si_txt = sheet.cell(row= r, column= 6)\n",
        "      Si_txt.value= f'{Si}'\n",
        "wb.save('Baitap02.xlsx')\n",
        "print('save file')"
      ],
      "metadata": {
        "colab": {
          "base_uri": "https://localhost:8080/"
        },
        "id": "LyxpWedILMUG",
        "outputId": "29b0ca6e-f9cc-49aa-bbe9-b6b0e09c53f7"
      },
      "execution_count": null,
      "outputs": [
        {
          "output_type": "stream",
          "name": "stdout",
          "text": [
            "save file\n"
          ]
        }
      ]
    },
    {
      "cell_type": "code",
      "source": [
        "import pandas as pd\n",
        "import seaborn as sns\n",
        "import matplotlib.pyplot as plt\n",
        "\n",
        "data2 = pd.read_excel('Baitap02.xlsx')\n",
        "corelations = data2.corr()\n",
        "plt.subplots(figsize=(8,8))\n",
        "sns.heatmap(corelations, annot= True, square= True)\n",
        "print(corelations)"
      ],
      "metadata": {
        "colab": {
          "base_uri": "https://localhost:8080/",
          "height": 591
        },
        "id": "KFqPl7vAT0Cw",
        "outputId": "b4329eea-e0f2-46c7-dd08-6aa3e7f9090a"
      },
      "execution_count": null,
      "outputs": [
        {
          "output_type": "stream",
          "name": "stdout",
          "text": [
            "          Px        Py            T1            T2            T3        Si\n",
            "Px  1.000000 -0.000127  6.996735e-02  2.274206e-04 -5.475596e-05  0.048088\n",
            "Py -0.000127  1.000000 -5.667175e-01  2.428231e-04  7.425072e-06 -0.388652\n",
            "T1  0.069967 -0.566718  1.000000e+00 -4.697266e-15 -5.679007e-16  0.686022\n",
            "T2  0.000227  0.000243 -4.697266e-15  1.000000e+00  2.126285e-16  0.514478\n",
            "T3 -0.000055  0.000007 -5.679007e-16  2.126285e-16  1.000000e+00  0.514478\n",
            "Si  0.048088 -0.388652  6.860216e-01  5.144776e-01  5.144776e-01  1.000000\n"
          ]
        },
        {
          "output_type": "display_data",
          "data": {
            "text/plain": [
              "<Figure size 576x576 with 2 Axes>"
            ],
            "image/png": "[encoded data removed]"
          },
          "metadata": {
            "needs_background": "light"
          }
        }
      ]
    },
    {
      "cell_type": "code",
      "source": [
        "from sklearn.preprocessing import StandardScaler\n",
        "\n",
        "x2 = data2.drop(['T1', 'T2', 'T3'], axis= 1)\n",
        "y2 = data2.drop(['Px', 'Py', 'Si'], axis= 1)\n",
        "col_names= list(x2.columns)\n",
        "s_scaler = StandardScaler()\n",
        "x2_df = s_scaler.fit_transform(x2)\n",
        "x2_df = pd.DataFrame(x2_df, columns= col_names)\n",
        "x2_df.describe().T"
      ],
      "metadata": {
        "colab": {
          "base_uri": "https://localhost:8080/",
          "height": 143
        },
        "id": "yagmvf8AOvpX",
        "outputId": "16e0f5b7-d9a6-4c29-85d0-fe81957bcdda"
      },
      "execution_count": null,
      "outputs": [
        {
          "output_type": "execute_result",
          "data": {
            "text/plain": [
              "       count          mean       std       min       25%       50%       75%  \\\n",
              "Px  209952.0  1.472817e-15  1.000002 -2.688516 -0.699582 -0.000169  0.699753   \n",
              "Py  209952.0  6.311357e-15  1.000002 -2.688280 -0.699717 -0.000048  0.699838   \n",
              "Si  209952.0 -9.715086e-18  1.000002 -2.921333 -0.709702  0.000000  0.709702   \n",
              "\n",
              "         max  \n",
              "Px  2.689561  \n",
              "Py  2.688415  \n",
              "Si  2.921333  "
            ],
            "text/html": [
              "\n",
              "  <div id=\"df-e2cd733e-40b2-4577-b293-b42f084670f3\">\n",
              "    <div class=\"colab-df-container\">\n",
              "      <div>\n",
              "<style scoped>\n",
              "    .dataframe tbody tr th:only-of-type {\n",
              "        vertical-align: middle;\n",
              "    }\n",
              "\n",
              "    .dataframe tbody tr th {\n",
              "        vertical-align: top;\n",
              "    }\n",
              "\n",
              "    .dataframe thead th {\n",
              "        text-align: right;\n",
              "    }\n",
              "</style>\n",
              "<table border=\"1\" class=\"dataframe\">\n",
              "  <thead>\n",
              "    <tr style=\"text-align: right;\">\n",
              "      <th></th>\n",
              "      <th>count</th>\n",
              "      <th>mean</th>\n",
              "      <th>std</th>\n",
              "      <th>min</th>\n",
              "      <th>25%</th>\n",
              "      <th>50%</th>\n",
              "      <th>75%</th>\n",
              "      <th>max</th>\n",
              "    </tr>\n",
              "  </thead>\n",
              "  <tbody>\n",
              "    <tr>\n",
              "      <th>Px</th>\n",
              "      <td>209952.0</td>\n",
              "      <td>1.472817e-15</td>\n",
              "      <td>1.000002</td>\n",
              "      <td>-2.688516</td>\n",
              "      <td>-0.699582</td>\n",
              "      <td>-0.000169</td>\n",
              "      <td>0.699753</td>\n",
              "      <td>2.689561</td>\n",
              "    </tr>\n",
              "    <tr>\n",
              "      <th>Py</th>\n",
              "      <td>209952.0</td>\n",
              "      <td>6.311357e-15</td>\n",
              "      <td>1.000002</td>\n",
              "      <td>-2.688280</td>\n",
              "      <td>-0.699717</td>\n",
              "      <td>-0.000048</td>\n",
              "      <td>0.699838</td>\n",
              "      <td>2.688415</td>\n",
              "    </tr>\n",
              "    <tr>\n",
              "      <th>Si</th>\n",
              "      <td>209952.0</td>\n",
              "      <td>-9.715086e-18</td>\n",
              "      <td>1.000002</td>\n",
              "      <td>-2.921333</td>\n",
              "      <td>-0.709702</td>\n",
              "      <td>0.000000</td>\n",
              "      <td>0.709702</td>\n",
              "      <td>2.921333</td>\n",
              "    </tr>\n",
              "  </tbody>\n",
              "</table>\n",
              "</div>\n",
              "      <button class=\"colab-df-convert\" onclick=\"convertToInteractive('df-e2cd733e-40b2-4577-b293-b42f084670f3')\"\n",
              "              title=\"Convert this dataframe to an interactive table.\"\n",
              "              style=\"display:none;\">\n",
              "        \n",
              "  <svg xmlns=\"http://www.w3.org/2000/svg\" height=\"24px\"viewBox=\"0 0 24 24\"\n",
              "       width=\"24px\">\n",
              "    <path d=\"M0 0h24v24H0V0z\" fill=\"none\"/>\n",
              "    <path d=\"M18.56 5.44l.94 2.06.94-2.06 2.06-.94-2.06-.94-.94-2.06-.94 2.06-2.06.94zm-11 1L8.5 8.5l.94-2.06 2.06-.94-2.06-.94L8.5 2.5l-.94 2.06-2.06.94zm10 10l.94 2.06.94-2.06 2.06-.94-2.06-.94-.94-2.06-.94 2.06-2.06.94z\"/><path d=\"M17.41 7.96l-1.37-1.37c-.4-.4-.92-.59-1.43-.59-.52 0-1.04.2-1.43.59L10.3 9.45l-7.72 7.72c-.78.78-.78 2.05 0 2.83L4 21.41c.39.39.9.59 1.41.59.51 0 1.02-.2 1.41-.59l7.78-7.78 2.81-2.81c.8-.78.8-2.07 0-2.86zM5.41 20L4 18.59l7.72-7.72 1.47 1.35L5.41 20z\"/>\n",
              "  </svg>\n",
              "      </button>\n",
              "      \n",
              "  <style>\n",
              "    .colab-df-container {\n",
              "      display:flex;\n",
              "      flex-wrap:wrap;\n",
              "      gap: 12px;\n",
              "    }\n",
              "\n",
              "    .colab-df-convert {\n",
              "      background-color: #E8F0FE;\n",
              "      border: none;\n",
              "      border-radius: 50%;\n",
              "      cursor: pointer;\n",
              "      display: none;\n",
              "      fill: #1967D2;\n",
              "      height: 32px;\n",
              "      padding: 0 0 0 0;\n",
              "      width: 32px;\n",
              "    }\n",
              "\n",
              "    .colab-df-convert:hover {\n",
              "      background-color: #E2EBFA;\n",
              "      box-shadow: 0px 1px 2px rgba(60, 64, 67, 0.3), 0px 1px 3px 1px rgba(60, 64, 67, 0.15);\n",
              "      fill: #174EA6;\n",
              "    }\n",
              "\n",
              "    [theme=dark] .colab-df-convert {\n",
              "      background-color: #3B4455;\n",
              "      fill: #D2E3FC;\n",
              "    }\n",
              "\n",
              "    [theme=dark] .colab-df-convert:hover {\n",
              "      background-color: #434B5C;\n",
              "      box-shadow: 0px 1px 3px 1px rgba(0, 0, 0, 0.15);\n",
              "      filter: drop-shadow(0px 1px 2px rgba(0, 0, 0, 0.3));\n",
              "      fill: #FFFFFF;\n",
              "    }\n",
              "  </style>\n",
              "\n",
              "      <script>\n",
              "        const buttonEl =\n",
              "          document.querySelector('#df-e2cd733e-40b2-4577-b293-b42f084670f3 button.colab-df-convert');\n",
              "        buttonEl.style.display =\n",
              "          google.colab.kernel.accessAllowed ? 'block' : 'none';\n",
              "\n",
              "        async function convertToInteractive(key) {\n",
              "          const element = document.querySelector('#df-e2cd733e-40b2-4577-b293-b42f084670f3');\n",
              "          const dataTable =\n",
              "            await google.colab.kernel.invokeFunction('convertToInteractive',\n",
              "                                                     [key], {});\n",
              "          if (!dataTable) return;\n",
              "\n",
              "          const docLinkHtml = 'Like what you see? Visit the ' +\n",
              "            '<a target=\"_blank\" href=https://colab.research.google.com/notebooks/data_table.ipynb>data table notebook</a>'\n",
              "            + ' to learn more about interactive tables.';\n",
              "          element.innerHTML = '';\n",
              "          dataTable['output_type'] = 'display_data';\n",
              "          await google.colab.output.renderOutput(dataTable, element);\n",
              "          const docLink = document.createElement('div');\n",
              "          docLink.innerHTML = docLinkHtml;\n",
              "          element.appendChild(docLink);\n",
              "        }\n",
              "      </script>\n",
              "    </div>\n",
              "  </div>\n",
              "  "
            ]
          },
          "metadata": {},
          "execution_count": 26
        }
      ]
    },
    {
      "cell_type": "code",
      "source": [
        "from sklearn.model_selection import train_test_split\n",
        "import keras\n",
        "from keras.layers import Dense , Dropout\n",
        "from keras.models import Sequential\n",
        "from tensorflow.keras.optimizers import RMSprop, SGD\n",
        "\n",
        "x_train, x_test, y_train, y_test = train_test_split(x2_df, y2, test_size = 0.25, random_state= 7)\n",
        "print(x_train.shape, x_test.shape)\n",
        "\n",
        "model = Sequential()\n",
        "model.add(Dense(512, activation= 'relu', input_shape = (3,)))\n",
        "model.add(Dropout(0.2))\n",
        "model.add(Dense(375, activation= 'relu'))\n",
        "model.add(Dropout(0.2))\n",
        "model.add(Dense(225, activation= 'relu'))\n",
        "model.add(Dropout(0.2))\n",
        "model.add(Dense(135, activation= 'relu'))\n",
        "model.add(Dropout(0.2))\n",
        "model.add(Dense(10, activation= 'relu'))\n",
        "model.add(Dropout(0.2))\n",
        "model.add(Dense(3, activation= 'softmax'))\n",
        "model.summary()\n",
        "opt = SGD(lr=0.01, momentum=0.9)\n",
        "model.compile(loss='hinge', optimizer = RMSprop(), metrics = ['accuracy'])\n",
        "\n",
        "history2 = model.fit(x_train, y_train, batch_size = 128, epochs = 10, verbose = 1, validation_data = (x_test, y_test))\n",
        "score = model.evaluate(x_test, y_test, verbose = 0)\n",
        "print('Sai số kiểm tra: ', score[0])\n",
        "print('Độ chính xác kiểm tra:', score[1])\n",
        "model.save('Baitap02.h5')\n",
        "y_pred = model.predict(x_test)\n",
        "print(y_pred)"
      ],
      "metadata": {
        "colab": {
          "base_uri": "https://localhost:8080/"
        },
        "id": "EcPxGJnYUwfL",
        "outputId": "f050ebdf-5c54-42cd-b9ce-ea363f300f67"
      },
      "execution_count": null,
      "outputs": [
        {
          "output_type": "stream",
          "name": "stdout",
          "text": [
            "(157464, 3) (52488, 3)\n",
            "Model: \"sequential_16\"\n",
            "_________________________________________________________________\n",
            " Layer (type)                Output Shape              Param #   \n",
            "=================================================================\n",
            " dense_68 (Dense)            (None, 512)               2048      \n",
            "                                                                 \n",
            " dropout_13 (Dropout)        (None, 512)               0         \n",
            "                                                                 \n",
            " dense_69 (Dense)            (None, 375)               192375    \n",
            "                                                                 \n",
            " dropout_14 (Dropout)        (None, 375)               0         \n",
            "                                                                 \n",
            " dense_70 (Dense)            (None, 225)               84600     \n",
            "                                                                 \n",
            " dropout_15 (Dropout)        (None, 225)               0         \n",
            "                                                                 \n",
            " dense_71 (Dense)            (None, 135)               30510     \n",
            "                                                                 \n",
            " dropout_16 (Dropout)        (None, 135)               0         \n",
            "                                                                 \n",
            " dense_72 (Dense)            (None, 10)                1360      \n",
            "                                                                 \n",
            " dropout_17 (Dropout)        (None, 10)                0         \n",
            "                                                                 \n",
            " dense_73 (Dense)            (None, 3)                 33        \n",
            "                                                                 \n",
            "=================================================================\n",
            "Total params: 310,926\n",
            "Trainable params: 310,926\n",
            "Non-trainable params: 0\n",
            "_________________________________________________________________\n",
            "Epoch 1/10\n"
          ]
        },
        {
          "output_type": "stream",
          "name": "stderr",
          "text": [
            "/usr/local/lib/python3.7/dist-packages/keras/optimizer_v2/gradient_descent.py:102: UserWarning: The `lr` argument is deprecated, use `learning_rate` instead.\n",
            "  super(SGD, self).__init__(name, **kwargs)\n"
          ]
        },
        {
          "output_type": "stream",
          "name": "stdout",
          "text": [
            "1231/1231 [==============================] - 20s 16ms/step - loss: 0.0169 - accuracy: 0.2826 - val_loss: 0.0173 - val_accuracy: 0.2067\n",
            "Epoch 2/10\n",
            "1231/1231 [==============================] - 20s 16ms/step - loss: 0.0169 - accuracy: 0.2635 - val_loss: 0.0173 - val_accuracy: 0.1987\n",
            "Epoch 3/10\n",
            "1231/1231 [==============================] - 20s 16ms/step - loss: 0.0169 - accuracy: 0.2559 - val_loss: 0.0173 - val_accuracy: 0.1987\n",
            "Epoch 4/10\n",
            "1231/1231 [==============================] - 19s 15ms/step - loss: 0.0169 - accuracy: 0.2590 - val_loss: 0.0173 - val_accuracy: 0.1987\n",
            "Epoch 5/10\n",
            "1231/1231 [==============================] - 19s 16ms/step - loss: 0.0169 - accuracy: 0.2558 - val_loss: 0.0173 - val_accuracy: 0.1987\n",
            "Epoch 6/10\n",
            "1231/1231 [==============================] - 20s 16ms/step - loss: 0.0169 - accuracy: 0.2561 - val_loss: 0.0173 - val_accuracy: 0.1987\n",
            "Epoch 7/10\n",
            "1231/1231 [==============================] - 20s 16ms/step - loss: 0.0169 - accuracy: 0.2573 - val_loss: 0.0173 - val_accuracy: 0.1987\n",
            "Epoch 8/10\n",
            "1231/1231 [==============================] - 20s 16ms/step - loss: 0.0169 - accuracy: 0.2569 - val_loss: 0.0173 - val_accuracy: 0.1987\n",
            "Epoch 9/10\n",
            "1231/1231 [==============================] - 19s 15ms/step - loss: 0.0169 - accuracy: 0.2582 - val_loss: 0.0173 - val_accuracy: 0.1987\n",
            "Epoch 10/10\n",
            "1231/1231 [==============================] - 20s 17ms/step - loss: 0.0169 - accuracy: 0.2570 - val_loss: 0.0173 - val_accuracy: 0.1987\n",
            "Sai số kiểm tra:  0.01728646829724312\n",
            "Độ chính xác kiểm tra: 0.1987120807170868\n",
            "[[0.33587295 0.32987717 0.3342499 ]\n",
            " [0.32845056 0.32632506 0.3452244 ]\n",
            " [0.33404428 0.3367176  0.32923806]\n",
            " ...\n",
            " [0.32606184 0.33041582 0.34352234]\n",
            " [0.3270389  0.32734457 0.34561646]\n",
            " [0.33792958 0.33303842 0.32903206]]\n"
          ]
        }
      ]
    },
    {
      "cell_type": "code",
      "source": [
        "pd.DataFrame(history2.history).plot(figsize= (8,8))\n",
        "plt.grid(True)\n",
        "plt.gca().set_ylim(0,1)\n",
        "plt.show()\n",
        "\n",
        "plt.plot(history2.history['accuracy'])\n",
        "plt.plot(history2.history['val_accuracy'])\n",
        "plt.title('model accuracy')\n",
        "plt.ylabel('accuracy')\n",
        "plt.xlabel('epoch')\n",
        "plt.legend(['train','validation'], loc = 'upper left')\n",
        "plt.show()"
      ],
      "metadata": {
        "colab": {
          "base_uri": "https://localhost:8080/",
          "height": 765
        },
        "id": "zgqGJPdKZiTH",
        "outputId": "4f239e5d-2558-4c15-edad-69d05aba409a"
      },
      "execution_count": null,
      "outputs": [
        {
          "output_type": "display_data",
          "data": {
            "text/plain": [
              "<Figure size 576x576 with 1 Axes>"
            ],
            "image/png": "[encoded data removed]"
          },
          "metadata": {
            "needs_background": "light"
          }
        },
        {
          "output_type": "display_data",
          "data": {
            "text/plain": [
              "<Figure size 432x288 with 1 Axes>"
            ],
            "image/png": "[encoded data removed]"
          },
          "metadata": {
            "needs_background": "light"
          }
        }
      ]
    }
  ]
}